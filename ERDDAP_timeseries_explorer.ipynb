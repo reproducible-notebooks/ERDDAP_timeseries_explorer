{
 "cells": [
  {
   "cell_type": "markdown",
   "metadata": {},
   "source": [
    "# Explore ERDDAP timeseries data\n",
    "This notebook uses `Holoviz` tools to interactively explore the last two weeks of time series data from an ERDDAP Server. Select a `variable` from the list, then specify a station to see the time series.  "
   ]
  },
  {
   "cell_type": "code",
   "execution_count": null,
   "metadata": {},
   "outputs": [],
   "source": [
    "from erddap_app.layout import layout"
   ]
  },
  {
   "cell_type": "code",
   "execution_count": null,
   "metadata": {},
   "outputs": [],
   "source": [
    "server_name = \"neracoos\""
   ]
  },
  {
   "cell_type": "code",
   "execution_count": null,
   "metadata": {},
   "outputs": [],
   "source": [
    "progressbar"
   ]
  },
  {
   "cell_type": "code",
   "execution_count": null,
   "metadata": {},
   "outputs": [],
   "source": [
    "valid_stdnames, server, e = get_valid_stdnames(server_name)"
   ]
  },
  {
   "cell_type": "code",
   "execution_count": null,
   "metadata": {},
   "outputs": [],
   "source": [
    "trange = np.arange(\n",
    "    datetime.datetime(2011, 1, 1), datetime.datetime.today(), datetime.timedelta(days=1)\n",
    ")\n",
    "\n",
    "wstdname_menu = pn.widgets.Select(\n",
    "    name=\"Choose a variable\",\n",
    "    options=valid_stdnames,\n",
    ")\n",
    "\n",
    "dmap = hv.DynamicMap(replot_dsmap, kdims=[\"Stdnames\", \"TimeRange\"])\n",
    "dmap = dmap.redim.values(Stdnames=valid_stdnames, TimeRange=trange)\n",
    "\n",
    "dmap = hv.DynamicMap(\n",
    "    pn.bind(\n",
    "        replot_dsmap,\n",
    "        stdname=wstdname_menu,\n",
    "        timerange=wstdname_date,\n",
    "    )\n",
    ")"
   ]
  },
  {
   "cell_type": "code",
   "execution_count": null,
   "metadata": {},
   "outputs": [],
   "source": [
    "df = get_datasets(\n",
    "    e,\n",
    "    wstdname_menu.value,\n",
    "    server.get(\"cdm_data_type\"),\n",
    "    wstdname_date.value_start,\n",
    "    wstdname_date.value_end,\n",
    "    server.get(\"skip_datasets\"),\n",
    ")\n",
    "dsnames = list(df.datasetID.values)\n",
    "\n",
    "\n",
    "wds_name = pn.widgets.Select(\n",
    "    name=\"Choose a dataset\",\n",
    "    options=dsnames,\n",
    "    value=dsnames[0],\n",
    ")\n",
    "\n",
    "\n",
    "def replot_tseries(dataset, timerange, stdname):\n",
    "\n",
    "    constraints = {\"time>=\": timerange[0], \"time<=\": timerange[1]}\n",
    "\n",
    "    df_tseries, var_tseries, unit_tseries = get_timeseries(\n",
    "        e=e,\n",
    "        dataset=dataset,  # from dswidgets\n",
    "        stdname=wstdname_menu.value,  # from stdwidgets\n",
    "        constraints=constraints,  # from dswidgets\n",
    "    )\n",
    "\n",
    "    # determine ylabel\n",
    "    ylabel = df_tseries.columns[0]\n",
    "    ylabel.replace(\"_\", \" \")\n",
    "\n",
    "    # determine title\n",
    "    dsname = dataset.replace(\"_\", \" \")\n",
    "    varname = df_tseries.columns[0].replace(\"_\", \" \")\n",
    "\n",
    "    # plot\n",
    "    tseries = df_tseries.hvplot(\n",
    "        kind=\"line\",\n",
    "        ylabel=unit_tseries,\n",
    "        title=f\"{dsname}   -   {varname}\",\n",
    "        grid=True,\n",
    "        xticks=8,\n",
    "        xformatter=formatter,\n",
    "    )\n",
    "    return tseries\n",
    "\n",
    "\n",
    "dplot = hv.DynamicMap(replot_tseries, kdims=[\"Dataset\", \"TimeRange\", \"Stdnames\"])\n",
    "dplot = dplot.redim.values(\n",
    "    Dataset=dsnames,\n",
    "    TimeRange=trange,\n",
    "    Stdnames=valid_stdnames,\n",
    ")\n",
    "\n",
    "dplot.opts(width=700, framewise=True)\n",
    "\n",
    "dplot = hv.DynamicMap(\n",
    "    pn.bind(\n",
    "        replot_tseries,\n",
    "        dataset=wds_name,\n",
    "        timerange=wds_date,\n",
    "        stdname=wstdname_menu,\n",
    "    )\n",
    ")"
   ]
  },
  {
   "cell_type": "code",
   "execution_count": null,
   "metadata": {},
   "outputs": [],
   "source": [
    "def update_wds_name(event):\n",
    "    df = get_datasets(\n",
    "        e,\n",
    "        wstdname_menu.value,\n",
    "        server.get(\"cdm_data_type\"),\n",
    "        wstdname_date.value_start,\n",
    "        wstdname_date.value_end,\n",
    "        server.get(\"skip_datasets\"),\n",
    "    )\n",
    "    dsnames = list(df.datasetID.values)\n",
    "    wds_name.options = dsnames\n",
    "\n",
    "\n",
    "wstdname_menu.param.watch(update_wds_name, \"value\")"
   ]
  },
  {
   "cell_type": "code",
   "execution_count": null,
   "metadata": {},
   "outputs": [],
   "source": [
    "def update_wds_date(event):\n",
    "    wds_date.value = wstdname_date.value\n",
    "\n",
    "\n",
    "wstdname_date.param.watch(update_wds_date, \"value\")"
   ]
  },
  {
   "cell_type": "code",
   "execution_count": null,
   "metadata": {},
   "outputs": [],
   "source": [
    "gspec = pn.GridSpec(sizing_mode=\"stretch_both\", max_height=800)\n",
    "\n",
    "gspec[0, 0] = dmap\n",
    "gspec[0, 1] = pn.WidgetBox(\n",
    "    \"## ERDDAP timeseries explorer\",\n",
    "    wstdname_menu,\n",
    "    wstdname_date,\n",
    "    wds_name,\n",
    "    wds_date,\n",
    ")\n",
    "gspec[1, :] = dplot\n",
    "\n",
    "gspec"
   ]
  }
 ],
 "metadata": {
  "kernelspec": {
   "display_name": "widgets10",
   "language": "python",
   "name": "widgets10"
  },
  "language_info": {
   "codemirror_mode": {
    "name": "ipython",
    "version": 3
   },
   "file_extension": ".py",
   "mimetype": "text/x-python",
   "name": "python",
   "nbconvert_exporter": "python",
   "pygments_lexer": "ipython3",
   "version": "3.9.7"
  }
 },
 "nbformat": 4,
 "nbformat_minor": 2
}
