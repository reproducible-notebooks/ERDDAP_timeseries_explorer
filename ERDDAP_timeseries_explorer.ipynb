{
 "cells": [
  {
   "cell_type": "markdown",
   "metadata": {},
   "source": [
    "# Explore ERDDAP timeseries data using Jupyter Widgets\n",
    "Inspired by [Jason Grout's excellent ESIP Tech Dive talk on \"Jupyter Widgets\"](https://youtu.be/CVcrTRQkTxo?t=2596), this notebook uses the `ipyleaflet` and `bqplot` widgets\n",
    "to interactively explore the last two weeks of time series data from an ERDDAP Server. Select a `standard_name` from the list, then specify a station to see the time series.  "
   ]
  },
  {
   "cell_type": "code",
   "execution_count": null,
   "metadata": {},
   "outputs": [],
   "source": [
    "import numpy as np\n",
    "import datetime\n",
    "from erddap_app.config import servers\n",
    "\n",
    "from holoviews.element.tiles import OSM\n",
    "import holoviews as hv\n",
    "\n",
    "import panel as pn\n",
    "pn.extension()\n",
    "import hvplot.pandas\n",
    "import bokeh\n",
    "\n",
    "from bokeh.models.formatters import DatetimeTickFormatter\n",
    "formatter = DatetimeTickFormatter(days='%d/%m/%y')\n",
    "\n",
    "from erddap_app.layout import (remove_qcstdnames,\n",
    "                               get_valid_stdnames,\n",
    "                               get_datasets,\n",
    "                               get_dsinfo,\n",
    "                               get_dslocation,\n",
    "                               get_timeseries,\n",
    "                               replot_dsmap,\n",
    "                               progressbar,\n",
    "                              )"
   ]
  },
  {
   "cell_type": "code",
   "execution_count": null,
   "metadata": {},
   "outputs": [],
   "source": [
    "server_name = \"neracoos\""
   ]
  },
  {
   "cell_type": "code",
   "execution_count": null,
   "metadata": {},
   "outputs": [],
   "source": [
    "progressbar"
   ]
  },
  {
   "cell_type": "code",
   "execution_count": null,
   "metadata": {},
   "outputs": [],
   "source": [
    "valid_stdnames, server, e = get_valid_stdnames(server_name)"
   ]
  }
 ],
 "metadata": {
  "kernelspec": {
   "display_name": "Python4widgets",
   "language": "python",
   "name": "widgets"
  },
  "language_info": {
   "codemirror_mode": {
    "name": "ipython",
    "version": 3
   },
   "file_extension": ".py",
   "mimetype": "text/x-python",
   "name": "python",
   "nbconvert_exporter": "python",
   "pygments_lexer": "ipython3",
   "version": "3.8.10"
  }
 },
 "nbformat": 4,
 "nbformat_minor": 2
}
