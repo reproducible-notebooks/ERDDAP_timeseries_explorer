{
 "cells": [
  {
   "cell_type": "markdown",
   "metadata": {},
   "source": [
    "# Explore ERDDAP timeseries data\n",
    "This notebook uses `Holoviz` tools to interactively explore the last two weeks of time series data from an ERDDAP Server. Select a `variable` from the list, then specify a station to see the time series.  \n",
    "The latest version of the code for this app is available [here](https://github.com/reproducible-notebooks/ERDDAP_timeseries_explorer)."
   ]
  },
  {
   "cell_type": "code",
   "execution_count": null,
   "metadata": {},
   "outputs": [],
   "source": [
    "from erddap_app.layout import layout\n",
    "\n",
    "server_name = \"neracoos\"\n",
    "layout(server_name)"
   ]
  }
 ],
 "metadata": {
  "kernelspec": {
   "display_name": "widgets10",
   "language": "python",
   "name": "widgets10"
  },
  "language_info": {
   "codemirror_mode": {
    "name": "ipython",
    "version": 3
   },
   "file_extension": ".py",
   "mimetype": "text/x-python",
   "name": "python",
   "nbconvert_exporter": "python",
   "pygments_lexer": "ipython3",
   "version": "3.9.7"
  }
 },
 "nbformat": 4,
 "nbformat_minor": 2
}
